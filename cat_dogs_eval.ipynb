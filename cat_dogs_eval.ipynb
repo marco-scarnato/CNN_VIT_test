{
 "cells": [
  {
   "cell_type": "markdown",
   "metadata": {},
   "source": [
    "# Cat and Dogs using CNN & Trasformers\n",
    "\n",
    "The goal of this notebook is to analyze and compare two different approaches to image recognition. The first model we will examine is based on Convolutional Neural Networks (CNNs), a well-established and effective technique for image processing. The second model, on the other hand, employs Visual Transformers, a more recent architecture that leverages attention mechanisms to capture spatial relationships between pixels. By comparing these two models, we will assess their performance and gain insights into their respective strengths and weaknesses."
   ]
  },
  {
   "cell_type": "markdown",
   "metadata": {},
   "source": [
    "## Feaute Analysis & Transformation\n",
    "\n",
    "The first step is to analyze the features of the available data. Specifically, we will examine the dataset distribution to understand the number of images, the classes present, and any potential imbalances between categories. This preliminary analysis will help us define the best strategy for the model training phase, optimizing the split between training, validation, and test sets."
   ]
  },
  {
   "cell_type": "markdown",
   "metadata": {},
   "source": [
    "Actually we are going to use a easy dataset to fit the model on mine cpu.\n",
    " -> Import dataset from Kaggle:\n",
    " [CAT & DOGS](https://www.kaggle.com/datasets/d4rklucif3r/cat-and-dogs)"
   ]
  },
  {
   "cell_type": "code",
   "execution_count": 1,
   "metadata": {},
   "outputs": [
    {
     "name": "stderr",
     "output_type": "stream",
     "text": [
      "c:\\Users\\marco\\miniconda3\\envs\\gpu-tf\\lib\\site-packages\\tqdm\\auto.py:21: TqdmWarning: IProgress not found. Please update jupyter and ipywidgets. See https://ipywidgets.readthedocs.io/en/stable/user_install.html\n",
      "  from .autonotebook import tqdm as notebook_tqdm\n"
     ]
    },
    {
     "name": "stdout",
     "output_type": "stream",
     "text": [
      "Path to dataset files: C:\\Users\\marco\\.cache\\kagglehub\\datasets\\d4rklucif3r\\cat-and-dogs\\versions\\1\n"
     ]
    }
   ],
   "source": [
    "import kagglehub\n",
    "\n",
    "# Download latest version\n",
    "path = kagglehub.dataset_download(\"d4rklucif3r/cat-and-dogs\")\n",
    "\n",
    "print(\"Path to dataset files:\", path)\n",
    "\n",
    "path = path + \"\\\\dataset\\\\\""
   ]
  },
  {
   "cell_type": "markdown",
   "metadata": {},
   "source": []
  },
  {
   "cell_type": "code",
   "execution_count": 2,
   "metadata": {},
   "outputs": [
    {
     "name": "stdout",
     "output_type": "stream",
     "text": [
      "\n",
      "Total number of classes are:  2\n",
      "\n",
      "Total number of images in the dataset are:  8000\n",
      "MEAN number of images in each class is:  4000\n",
      "\n",
      "Number of images for each class: \n"
     ]
    },
    {
     "data": {
      "image/png": "[encoded data removed]",
      "text/plain": [
       "<Figure size 1000x1000 with 1 Axes>"
      ]
     },
     "metadata": {},
     "output_type": "display_data"
    }
   ],
   "source": [
    "import feature_engineering as fe\n",
    "\n",
    "train_dir, _, test_dir = fe.dataset_sub_division(path)\n",
    "\n",
    "classes = fe.analisys_dataset_composition(train_dir)"
   ]
  },
  {
   "cell_type": "code",
   "execution_count": 3,
   "metadata": {},
   "outputs": [
    {
     "name": "stdout",
     "output_type": "stream",
     "text": [
      "Found 8000 files belonging to 2 classes.\n",
      "Found 2000 files belonging to 2 classes.\n",
      "Numero di classi: 2, Classi: ['cats', 'dogs']\n"
     ]
    }
   ],
   "source": [
    "import tensorflow as tf\n",
    "\n",
    "# Parametri del dataset\n",
    "img_size = (256, 256)\n",
    "batch_size = 8\n",
    "\n",
    "# Caricamento automatico delle immagini da cartelle (senza PyTorch)\n",
    "train_ds = tf.keras.utils.image_dataset_from_directory(\n",
    "    train_dir,\n",
    "    image_size=img_size,\n",
    "    batch_size=batch_size\n",
    ")\n",
    "\n",
    "# Caricamento automatico delle immagini da cartelle (senza PyTorch)\n",
    "test_ds = tf.keras.utils.image_dataset_from_directory(\n",
    "    test_dir,\n",
    "    image_size=img_size,\n",
    "    batch_size=batch_size\n",
    ")\n",
    "\n",
    "# Determina il numero di classi automaticamente\n",
    "num_classes = len(train_ds.class_names)\n",
    "print(f\"Numero di classi: {num_classes}, Classi: {train_ds.class_names}\")\n",
    "\n",
    "# ✅ Convertire i target in one-hot encoding\n",
    "def one_hot_encode(image, label):\n",
    "    return image, tf.one_hot(label, depth=num_classes)\n",
    "\n",
    "train_ds = train_ds.map(one_hot_encode)\n",
    "test_ds = test_ds.map(one_hot_encode)"
   ]
  },
  {
   "cell_type": "markdown",
   "metadata": {},
   "source": [
    "## Configuriamo l'esecuzione su GPU"
   ]
  },
  {
   "cell_type": "code",
   "execution_count": 4,
   "metadata": {},
   "outputs": [
    {
     "name": "stdout",
     "output_type": "stream",
     "text": [
      "True\n",
      "[PhysicalDevice(name='/physical_device:GPU:0', device_type='GPU')]\n"
     ]
    }
   ],
   "source": [
    "import tensorflow as tf\n",
    "\n",
    "print(tf.test.is_built_with_cuda())\n",
    "print(tf.config.list_physical_devices('GPU'))"
   ]
  },
  {
   "cell_type": "code",
   "execution_count": 5,
   "metadata": {},
   "outputs": [],
   "source": [
    "import tensorflow as tf\n",
    "from tensorflow import keras\n",
    "from keras import layers\n",
    "\n",
    "class CNN_model():\n",
    "    \n",
    "    def __init__(self, num_classes):\n",
    "        super().__init__()\n",
    "        self.model = keras.Sequential([\n",
    "            # Block One\n",
    "            layers.Conv2D(filters=32,\n",
    "                        kernel_size=3, \n",
    "                        activation='relu', \n",
    "                        padding='same',\n",
    "                        input_shape=[256, 256, 3]),\n",
    "            layers.MaxPool2D(),\n",
    "\n",
    "            # Block Two\n",
    "            layers.Conv2D(filters=64,\n",
    "                        kernel_size=3,\n",
    "                        activation='relu',\n",
    "                        padding='same'),\n",
    "            layers.MaxPool2D(),\n",
    "\n",
    "            # Block Three\n",
    "            layers.Conv2D(filters=128, \n",
    "                        kernel_size=3, \n",
    "                        activation='relu', \n",
    "                        padding='same'),\n",
    "            layers.Conv2D(filters=128, \n",
    "                        kernel_size=3, \n",
    "                        activation='relu', \n",
    "                        padding='same'),\n",
    "            layers.MaxPool2D(),\n",
    "\n",
    "            # Head\n",
    "            layers.Flatten(),\n",
    "            layers.Dense(256, activation='relu'),  # Layer fully connected aggiuntivo per migliorare la capacità di apprendimento\n",
    "            layers.Dropout(0.5),  # Dropout per evitare overfitting\n",
    "            layers.Dense(num_classes, activation='softmax' if num_classes > 2 else 'sigmoid'),\n",
    "        ])\n",
    "\n",
    "        self.model.compile(\n",
    "            optimizer=tf.keras.optimizers.Adam(learning_rate=0.0001),\n",
    "            loss='categorical_crossentropy' if num_classes > 2 else 'binary_crossentropy',\n",
    "            metrics=['categorical_accuracy' if num_classes > 2 else 'binary_accuracy'],\n",
    "        )"
   ]
  },
  {
   "cell_type": "code",
   "execution_count": 6,
   "metadata": {},
   "outputs": [
    {
     "name": "stdout",
     "output_type": "stream",
     "text": [
      "Epoch 1/10\n",
      "1000/1000 [==============================] - 46s 42ms/step - loss: 0.9750 - binary_accuracy: 0.6009\n",
      "Epoch 2/10\n",
      "1000/1000 [==============================] - 42s 42ms/step - loss: 0.5779 - binary_accuracy: 0.6991\n",
      "Epoch 3/10\n",
      "1000/1000 [==============================] - 42s 42ms/step - loss: 0.4828 - binary_accuracy: 0.7691\n",
      "Epoch 4/10\n",
      "1000/1000 [==============================] - 43s 43ms/step - loss: 0.3748 - binary_accuracy: 0.8352\n",
      "Epoch 5/10\n",
      "1000/1000 [==============================] - 43s 43ms/step - loss: 0.2618 - binary_accuracy: 0.8919\n",
      "Epoch 6/10\n",
      "1000/1000 [==============================] - 43s 43ms/step - loss: 0.1921 - binary_accuracy: 0.9242\n",
      "Epoch 7/10\n",
      "1000/1000 [==============================] - 43s 43ms/step - loss: 0.1449 - binary_accuracy: 0.9449\n",
      "Epoch 8/10\n",
      "1000/1000 [==============================] - 48s 48ms/step - loss: 0.1201 - binary_accuracy: 0.9570\n",
      "Epoch 9/10\n",
      "1000/1000 [==============================] - 42s 42ms/step - loss: 0.0859 - binary_accuracy: 0.9711\n",
      "Epoch 10/10\n",
      "1000/1000 [==============================] - 42s 42ms/step - loss: 0.0743 - binary_accuracy: 0.9746\n"
     ]
    },
    {
     "data": {
      "text/plain": [
       "<keras.callbacks.History at 0x26f1075f310>"
      ]
     },
     "execution_count": 6,
     "metadata": {},
     "output_type": "execute_result"
    }
   ],
   "source": [
    "# Creazione del modello\n",
    "model = CNN_model(num_classes).model\n",
    "\n",
    "# Addestramento della rete neurale\n",
    "model.fit(\n",
    "    train_ds,\n",
    "    epochs=10,  # Modifica il numero di epoche se necessario\n",
    ")"
   ]
  },
  {
   "cell_type": "code",
   "execution_count": 7,
   "metadata": {},
   "outputs": [
    {
     "name": "stdout",
     "output_type": "stream",
     "text": [
      "250/250 [==============================] - 3s 13ms/step - loss: 1.0218 - binary_accuracy: 0.7442\n",
      "Test Loss: 1.0218493938446045\n",
      "Test Accuracy: 0.7442499995231628\n"
     ]
    }
   ],
   "source": [
    "test_loss, test_acc = model.evaluate(test_ds)\n",
    "\n",
    "print(f\"Test Loss: {test_loss}\")\n",
    "print(f\"Test Accuracy: {test_acc}\")"
   ]
  }
 ],
 "metadata": {
  "kernelspec": {
   "display_name": "gpu-tf",
   "language": "python",
   "name": "python3"
  },
  "language_info": {
   "codemirror_mode": {
    "name": "ipython",
    "version": 3
   },
   "file_extension": ".py",
   "mimetype": "text/x-python",
   "name": "python",
   "nbconvert_exporter": "python",
   "pygments_lexer": "ipython3",
   "version": "3.9.21"
  }
 },
 "nbformat": 4,
 "nbformat_minor": 2
}
